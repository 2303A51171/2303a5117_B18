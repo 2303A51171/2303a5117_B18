{
  "nbformat": 4,
  "nbformat_minor": 0,
  "metadata": {
    "colab": {
      "provenance": [],
      "authorship_tag": "ABX9TyOW3IPZLIpwp6XzwLz1OdkO",
      "include_colab_link": true
    },
    "kernelspec": {
      "name": "python3",
      "display_name": "Python 3"
    },
    "language_info": {
      "name": "python"
    }
  },
  "cells": [
    {
      "cell_type": "markdown",
      "metadata": {
        "id": "view-in-github",
        "colab_type": "text"
      },
      "source": [
        "<a href=\"https://colab.research.google.com/github/2303A51171/2303a5117_B18/blob/main/Assignment_1_using_recurrison.ipynb\" target=\"_parent\"><img src=\"https://colab.research.google.com/assets/colab-badge.svg\" alt=\"Open In Colab\"/></a>"
      ]
    },
    {
      "cell_type": "code",
      "execution_count": null,
      "metadata": {
        "colab": {
          "base_uri": "https://localhost:8080/"
        },
        "id": "sofPlxusQtLA",
        "outputId": "93052298-e457-4963-f629-bf4141c8ad7a"
      },
      "outputs": [
        {
          "output_type": "stream",
          "name": "stdout",
          "text": [
            "Enter the number:4\n",
            "The factorial of 4 is 24\n"
          ]
        }
      ],
      "source": [
        "def factorial(n):\n",
        "  if n==0 or n==1:\n",
        "    return 1\n",
        "  else:\n",
        "    return n*factorial(n-1)\n",
        "\n",
        "number=int(input(\"Enter the number:\"))\n",
        "if number<0:\n",
        "  print(\"Factorial is not defined for negative numbers.\")\n",
        "else:\n",
        "  result=factorial(number)\n",
        "  print(\"The factorial of\",number,\"is\",result)"
      ]
    },
    {
      "cell_type": "code",
      "source": [
        "def fractional(n)"
      ],
      "metadata": {
        "id": "I-Ne8_I6ZBN1"
      },
      "execution_count": null,
      "outputs": []
    },
    {
      "cell_type": "code",
      "metadata": {
        "colab": {
          "base_uri": "https://localhost:8080/"
        },
        "id": "055ee24f",
        "outputId": "c1e19ff3-abbe-4261-e127-ff622410e6c9"
      },
      "source": [
        "def factorial(n):\n",
        "    if n == 0 or n == 1:\n",
        "        return 1\n",
        "    return n * factorial(n - 1)\n",
        "\n",
        "def compute_permutation(n, r):\n",
        "    if n < r:\n",
        "        raise ValueError(\"Invalid input: n must be greater than or equal to r.\")\n",
        "    print(f\"Calculating {n}P{r} = {n}! / ({n} - {r})!\")\n",
        "    numerator = factorial(n)\n",
        "    denominator = factorial(n - r)\n",
        "    print(f\"{n}! = {numerator}\")\n",
        "    print(f\"({n}-{r})! = {denominator}\")\n",
        "    result = numerator // denominator\n",
        "    print(f\"Permutations = {result}\")\n",
        "    return result\n",
        "\n",
        "# Example Usage\n",
        "try:\n",
        "    n = int(input(\"Enter total number of people (n): \"))\n",
        "    r = int(input(\"Enter number of places (r): \"))\n",
        "    compute_permutation(n, r)\n",
        "except ValueError as e:\n",
        "    print(\"Error:\", e)\n",
        "\n"
      ],
      "execution_count": 9,
      "outputs": [
        {
          "output_type": "stream",
          "name": "stdout",
          "text": [
            "Enter total number of people (n): 5\n",
            "Enter number of places (r): 4\n",
            "Calculating 5P4 = 5! / (5 - 4)!\n",
            "5! = 120\n",
            "(5-4)! = 1\n",
            "Permutations = 120\n"
          ]
        }
      ]
    }
  ]
}